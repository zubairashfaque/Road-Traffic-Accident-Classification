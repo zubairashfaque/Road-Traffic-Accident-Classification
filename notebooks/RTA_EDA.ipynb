{
 "cells": [
  {
   "cell_type": "markdown",
   "metadata": {
    "id": "k6KL8XwJ7Hac"
   },
   "source": [
    "<h1>Table of Contents<span class=\"tocSkip\"></span></h1>\n",
    "    <div class=\"toc\"><ul class=\"toc-item\"><li><span><a href=\"#Road-Traffic-Accident-Classification---EDA\" data-toc-modified-id=\"Coursework-3-:-English-Property-Prices-1\">Road Traffic Accident Classification - EDA</a></span><ul class=\"toc-item\"><li><span><a href=\"#The-Goal-Of-The-Notebook\" data-toc-modified-id=\"The-goal-of-the-notebook\">The Goal Of The Notebook</a></span></li><li><span><a href=\"#RTA-Dataset-Details\" data-toc-modified-id=\"RTA-Dataset-Details\">RTA Dataset Details</a></span></li></ul></li><li><span><a href=\"#1.0-Loading-and-Preparation-of-Data\" data-toc-modified-id=\"1.0 Loading and Preparation of Data\">1.0 Loading and Preparation of Data</a></span><ul class=\"toc-item\"><li><span><a href=\"#1.1-Import-Libraries\" data-toc-modified-id=\"1.1-Import-Libraries\">1.1 Import Libraries</a></span></li><li><span><a href=\"#1.2-Loading-Dataset-and-Doing-Initial-Analysis\" data-toc-modified-id=\"1.2-Missing-values-in-the-region-or-area-data-(2c)-2.2\">1.2 Loading Dataset and Doing Initial Analysis</a></span></li><li><span><a href=\"#1.3-Identifying-Missing-Values-And-Analysis\" data-toc-modified-id=\"1.3-Identifying-Missing-Values-And-Analysis\">1.3 Identifying Missing Values And Analysis</a></span></li></ul></li><li><span><a href=\"#2.0-EDA-Categorical-Variables\" data-toc-modified-id=\"2.0-EDA-Categorical-Variables\">2.0 EDA Categorical Variables</a></span><ul class=\"toc-item\"><li><span><a href=\"#2.1-Display-Each-Categorical-Variable-Values\" data-toc-modified-id=\"2.1 Display-Each-Categorical-Variable-Values\">2.1 Display Each Categorical Variable Values</a></span></li><li><span><a href=\"#2.2-Display-Count-Of-Each-Category\" data-toc-modified-id=\"2.2-Display-Count-Of-Each-Category\">2.2 Display Count Of Each Category</a></span></li><li><span><a href=\"#2.3-Display-Ratio-Of-Each-Category-Along-With-Entropy-And-Variation-Ratio\" data-toc-modified-id=\"2.3-Display-Ratio-Of-Each-Category-Along-With-Entropy-And-Variation-Ratio\">2.3 Display Ratio Of Each Category Along With Entropy And Variation Ratio</a></span></li><li><span><a href=\"#2.4-Display-Segment-Categorical-Features-By-The-Target-Classes\" data-toc-modified-id=\"2.4-Display-Segment-Categorical-Features-By-The-Target-Classes\">2.4 Display Segment Categorical Features By The Target Classes</a></span></li></ul></li><li><span><a href=\"#3.0-EDA-Numerical-Variables\" data-toc-modified-id=\"3.0-EDA-Numerical-Variables\">3.0 EDA Numerical Variables</a></span>"
   ]
  },
  {
   "cell_type": "markdown",
   "metadata": {
    "id": "X05Q5eBKHNT6"
   },
   "source": [
    "# Road Traffic Accident Classification - EDA"
   ]
  },
  {
   "cell_type": "markdown",
   "metadata": {
    "id": "UiW0rp_YHNT7"
   },
   "source": [
    "## The Goal Of The Notebook\n",
    "\n",
    "The goal of this notebook is to visualise data or discover trends, patterns, or to check assumptions in data with the help of statistical summary and graphical representations using visual techniques called Exploratory Data Analysis (EDA)."
   ]
  },
  {
   "cell_type": "markdown",
   "metadata": {
    "id": "4rCXNDiMHNT7"
   },
   "source": [
    "## RTA Dataset Details\n",
    "\n",
    "This data set is collected from Addis Ababa Sub city police departments for Masters research work. The data set has been prepared from manual records of road traffic accident of the year 2017-20. All the sensitive information have been excluded during data encoding and finally it has 32 features and 12316 instances of the accident. Then it is preprocessed and for identification of major causes of the accident by analyzing it using different machine learning classification algorithms algorithms."
   ]
  },
  {
   "cell_type": "markdown",
   "metadata": {
    "id": "Rux26VfzHNT7"
   },
   "source": [
    "# 1.0 Loading and Preparation of Data"
   ]
  },
  {
   "cell_type": "markdown",
   "metadata": {
    "id": "PQs4ZVi1HNT8"
   },
   "source": [
    "## 1.1 Import Libraries\n"
   ]
  },
  {
   "cell_type": "code",
   "execution_count": null,
   "metadata": {
    "colab": {
     "base_uri": "https://localhost:8080/",
     "height": 106
    },
    "id": "cvHSg3Jlldjo",
    "outputId": "d3b310a5-5cb9-4c32-bc25-604ddb850845"
   },
   "outputs": [],
   "source": [
    "import random\n",
    "import pandas as pd\n",
    "import numpy as np\n",
    "import math\n",
    "\n",
    "import seaborn as sns\n",
    "import matplotlib.pyplot as plt\n",
    "%matplotlib inline\n",
    "\n",
    "# to display all the columns of the dataframe in the notebook\n",
    "pd.pandas.set_option('display.max_columns', None)\n",
    "\n",
    "import missingno as msno\n",
    "import plotly.express as px\n",
    "import plotly.graph_objects as go\n",
    "from plotly.subplots import make_subplots\n",
    "\n",
    "from scipy.stats import entropy\n",
    "\n",
    "from IPython.core.display import display\n",
    "from plotly.offline import init_notebook_mode, iplot\n",
    "init_notebook_mode(connected=True)\n",
    "# Set notebook mode to work in offline\n",
    "import plotly.offline as pyo\n",
    "pyo.init_notebook_mode()\n",
    "from scipy.stats import chi2_contingency\n",
    "px.renderers.default='notebook'\n",
    "go.renderers.default='notebook'"
   ]
  },
  {
   "cell_type": "markdown",
   "metadata": {
    "id": "Aj9pABriHNT9"
   },
   "source": [
    "## 1.2 Loading Dataset and Doing Initial Analysis\n",
    "\n",
    "Loading Road Traffic Accident data set in dataframe name as data. At first glance will do some initial data analysis share obervations."
   ]
  },
  {
   "cell_type": "code",
   "execution_count": null,
   "metadata": {
    "id": "FVABACW4lsD3"
   },
   "outputs": [],
   "source": [
    "# load data\n",
    "data = pd.read_csv('RTA_Dataset.csv')"
   ]
  },
  {
   "cell_type": "code",
   "execution_count": null,
   "metadata": {
    "colab": {
     "base_uri": "https://localhost:8080/"
    },
    "id": "zEQLAlcQHNUB",
    "outputId": "98a5e975-0b13-4cc2-f7a0-600c5937614c"
   },
   "outputs": [],
   "source": [
    "# rows and columns of the data\n",
    "print(data.shape)"
   ]
  },
  {
   "cell_type": "code",
   "execution_count": null,
   "metadata": {
    "colab": {
     "base_uri": "https://localhost:8080/"
    },
    "id": "ObWHL98Kzzk4",
    "outputId": "659ef5a6-9c81-4423-c48b-8eab3d0c115c"
   },
   "outputs": [],
   "source": [
    "# Get the number of rows and columns\n",
    "rows = len(data.axes[0])\n",
    "cols = len(data.axes[1])\n",
    "\n",
    "# Print the number of rows and columns\n",
    "print(\"Number of Rows: \" + str(rows))\n",
    "print(\"Number of Columns: \" + str(cols))"
   ]
  },
  {
   "cell_type": "code",
   "execution_count": null,
   "metadata": {
    "colab": {
     "base_uri": "https://localhost:8080/",
     "height": 391
    },
    "id": "lB-q68-zHNUD",
    "outputId": "5c9e4b2a-9937-426c-ab09-1350554d5f83"
   },
   "outputs": [],
   "source": [
    "# visualise the dataset\n",
    "data.head()"
   ]
  },
  {
   "cell_type": "code",
   "execution_count": null,
   "metadata": {
    "id": "3B_MszY8_OeJ",
    "outputId": "9a83d7b2-b91d-46b5-e60f-55f03659afc9"
   },
   "outputs": [],
   "source": [
    "df = data['Accident_severity'].value_counts()\n",
    "prob = (data['Accident_severity'].value_counts()/ len(data['Accident_severity'])).tolist()\n",
    "fig = px.bar(df, y='Accident_severity', x=df.index.values, text_auto=True, color='Accident_severity')\n",
    "fig.show(\"notebook\")"
   ]
  },
  {
   "cell_type": "code",
   "execution_count": null,
   "metadata": {
    "colab": {
     "base_uri": "https://localhost:8080/"
    },
    "id": "TEVjQdFTxVCh",
    "outputId": "847bbef9-3794-47f0-d785-4dcd93a92f49"
   },
   "outputs": [],
   "source": [
    "#Chceking segregation of target value 'Accident severity' in form of count\n",
    "data['Accident_severity'].value_counts()"
   ]
  },
  {
   "cell_type": "code",
   "execution_count": null,
   "metadata": {
    "colab": {
     "base_uri": "https://localhost:8080/"
    },
    "id": "tpG7Ih2Q9Bjf",
    "outputId": "7ea609fb-a509-4e6d-94f0-9248300d5583"
   },
   "outputs": [],
   "source": [
    "#Chceking segregation of target value 'Accident severity' in \"%\" form\n",
    "data.Accident_severity.value_counts(normalize = True)*100"
   ]
  },
  {
   "cell_type": "markdown",
   "metadata": {
    "id": "k1HVqPCu8nWZ"
   },
   "source": [
    "<b>Inference:</b> The data is highly imbalanced dataset as it can be seen the count of people who suffered <b>Slight Injury is 85.9%, Serious Injury is 14.1% and Fatal injury 1.28%."
   ]
  },
  {
   "cell_type": "code",
   "execution_count": null,
   "metadata": {
    "colab": {
     "base_uri": "https://localhost:8080/"
    },
    "id": "QkLQ2T70zr9G",
    "outputId": "16b1ab7d-2182-4090-b615-9c970bd8c7b6"
   },
   "outputs": [],
   "source": [
    "#concise summary of the dataframe.\n",
    "data.info()"
   ]
  },
  {
   "cell_type": "code",
   "execution_count": null,
   "metadata": {
    "colab": {
     "base_uri": "https://localhost:8080/"
    },
    "id": "vM_tgwztHNUF",
    "outputId": "717f056c-a9b9-43d4-ada5-fb04b1763d3f"
   },
   "outputs": [],
   "source": [
    "data['Time'] = data['Time'].astype('datetime64[ns]')\n",
    "data.info()"
   ]
  },
  {
   "cell_type": "markdown",
   "metadata": {
    "id": "68L6_5SfHNUF"
   },
   "source": [
    "## 1.3 Identifying Missing Values And Analysis"
   ]
  },
  {
   "cell_type": "code",
   "execution_count": null,
   "metadata": {
    "colab": {
     "base_uri": "https://localhost:8080/"
    },
    "id": "p18emgLE7_l-",
    "outputId": "248c70bd-8ccb-4301-9649-e5bf0a6d345b"
   },
   "outputs": [],
   "source": [
    "# we can use the mean method after isnull\n",
    "# to visualise the percentage of\n",
    "# missing values for each variable\n",
    "\n",
    "data.isnull().mean()"
   ]
  },
  {
   "cell_type": "code",
   "execution_count": null,
   "metadata": {
    "colab": {
     "base_uri": "https://localhost:8080/"
    },
    "id": "k-ORxer18WLH",
    "outputId": "e2fce007-d6aa-4a79-851b-48679bd6335b"
   },
   "outputs": [],
   "source": [
    "# we can quantify the total number of missing values using\n",
    "# the isnull method plus the sum method on the dataframe\n",
    "\n",
    "data.isnull().sum()"
   ]
  },
  {
   "cell_type": "code",
   "execution_count": null,
   "metadata": {
    "colab": {
     "base_uri": "https://localhost:8080/"
    },
    "id": "uV0_03vb8DS1",
    "outputId": "3281449f-e157-4622-980c-7d3eafa448bf"
   },
   "outputs": [],
   "source": [
    "# check the presence of missing data.\n",
    "# (there are no missing data in this dataset)\n",
    "\n",
    "[col for col in data.columns if data[col].isnull().sum() > 0]"
   ]
  },
  {
   "cell_type": "code",
   "execution_count": null,
   "metadata": {
    "id": "tcPkupwp8I6l"
   },
   "outputs": [],
   "source": [
    "#Function to make missing value table\n",
    "def missing_values_table(df):\n",
    "        # Total missing values\n",
    "        mis_val = df.isnull().sum()\n",
    "\n",
    "        # Percentage of missing values\n",
    "        mis_val_percent = 100 * df.isnull().sum() / len(df)\n",
    "\n",
    "        # Make a table with the results\n",
    "        mis_val_table = pd.concat([mis_val, mis_val_percent], axis=1)\n",
    "\n",
    "        # Rename the columns\n",
    "        mis_val_table_ren_columns = mis_val_table.rename(\n",
    "        columns = {0 : 'Missing Values', 1 : '% of Total Values'})\n",
    "\n",
    "        # Sort the table by percentage of missing descending\n",
    "        mis_val_table_ren_columns = mis_val_table_ren_columns[\n",
    "            mis_val_table_ren_columns.iloc[:,1] != 0].sort_values(\n",
    "        '% of Total Values', ascending=False).round(1)\n",
    "\n",
    "        # Print some summary information\n",
    "        print (\"Your selected dataframe has \" + str(df.shape[1]) + \" columns.\\n\"\n",
    "            \"There are \" + str(mis_val_table_ren_columns.shape[0]) +\n",
    "              \" columns that have missing values.\")\n",
    "\n",
    "        # Return the dataframe with missing information\n",
    "        return mis_val_table_ren_columns"
   ]
  },
  {
   "cell_type": "code",
   "execution_count": null,
   "metadata": {
    "colab": {
     "base_uri": "https://localhost:8080/",
     "height": 585
    },
    "id": "le8nPq4W8m-9",
    "outputId": "cb0cce9d-7534-49b4-dd42-d4373a3d93ed",
    "scrolled": false
   },
   "outputs": [],
   "source": [
    "train_missing= missing_values_table(data)\n",
    "train_missing"
   ]
  },
  {
   "cell_type": "code",
   "execution_count": null,
   "metadata": {
    "colab": {
     "base_uri": "https://localhost:8080/"
    },
    "id": "KgWUZksN8n_e",
    "outputId": "fa4c5d82-14cf-4079-c789-e34ed0ea4de7",
    "scrolled": false
   },
   "outputs": [],
   "source": [
    "train_missing.index.values"
   ]
  },
  {
   "cell_type": "code",
   "execution_count": null,
   "metadata": {
    "colab": {
     "base_uri": "https://localhost:8080/",
     "height": 634
    },
    "id": "YFK292OU8xZF",
    "outputId": "9fa041d9-b1da-4b02-b761-2bca9608ec73",
    "scrolled": true
   },
   "outputs": [],
   "source": [
    "\n",
    "msno.bar(data)"
   ]
  },
  {
   "cell_type": "markdown",
   "metadata": {
    "id": "PuYX1vzcHNUH"
   },
   "source": [
    "Let’s visualize its missing values using a matrix plot. In the matrix plot, each white line represents missing observations and the lines are visualized in the order they appear in the dataset, top to bottom. For large datasets like this, a cluster of missing values will form brighter white lines."
   ]
  },
  {
   "cell_type": "code",
   "execution_count": null,
   "metadata": {
    "colab": {
     "base_uri": "https://localhost:8080/",
     "height": 604
    },
    "id": "JZibpgI78yv9",
    "outputId": "d98cce16-084c-46be-f38f-504921ee1dca",
    "scrolled": true
   },
   "outputs": [],
   "source": [
    "#Let’s visualize its missing values using a matrix plot\n",
    "msno.matrix(data)"
   ]
  },
  {
   "cell_type": "code",
   "execution_count": null,
   "metadata": {
    "colab": {
     "base_uri": "https://localhost:8080/",
     "height": 611
    },
    "id": "SqqWMbYx82ll",
    "outputId": "9a182702-22ed-4a93-ca40-5c6f41e0e09f",
    "scrolled": true
   },
   "outputs": [],
   "source": [
    "msno.matrix(data.sample(100))"
   ]
  },
  {
   "cell_type": "markdown",
   "metadata": {
    "id": "LujjAM8AHNUI"
   },
   "source": [
    "To find out if the missingness has any correlation with any of the existing variables, we will use a correlation heatmap."
   ]
  },
  {
   "cell_type": "code",
   "execution_count": null,
   "metadata": {
    "colab": {
     "base_uri": "https://localhost:8080/",
     "height": 772
    },
    "id": "xNDVbGfZ87AU",
    "outputId": "e5fbabe5-228e-4bef-d222-f48fe3fb563f",
    "scrolled": true
   },
   "outputs": [],
   "source": [
    "#Let’s visualize its missing values using correlation heatmap\n",
    "msno.heatmap(data, cmap='rainbow');"
   ]
  },
  {
   "cell_type": "markdown",
   "metadata": {
    "id": "JrKK98A-HNUI"
   },
   "source": [
    "The high scores indicate missing values in one column are highly dependent on the missingness of another column. Liklwise we can strong correlation between \"Vehicle_driver_relation\" and \"Educational_level\" same with \"Fitness_of_casuality\" and \"Work_of_casuality\".\n",
    "\n"
   ]
  },
  {
   "cell_type": "code",
   "execution_count": null,
   "metadata": {
    "colab": {
     "base_uri": "https://localhost:8080/",
     "height": 591
    },
    "id": "lERnfbWa9Ipk",
    "outputId": "a4573e0d-a001-4429-8c38-6765d23795eb",
    "scrolled": false
   },
   "outputs": [],
   "source": [
    "msno.matrix(data.sample(1000).sort_values(['Vehicle_driver_relation','Educational_level']));"
   ]
  },
  {
   "cell_type": "code",
   "execution_count": null,
   "metadata": {
    "colab": {
     "base_uri": "https://localhost:8080/",
     "height": 591
    },
    "id": "gJ6ieyxmHNUI",
    "outputId": "c9af02b7-6496-4785-ab2d-e49f36cdea52"
   },
   "outputs": [],
   "source": [
    "msno.matrix(data.sample(1000).sort_values(['Driving_experience','Vehicle_driver_relation']));"
   ]
  },
  {
   "cell_type": "code",
   "execution_count": null,
   "metadata": {
    "colab": {
     "base_uri": "https://localhost:8080/",
     "height": 591
    },
    "id": "YADKzVWg89CN",
    "outputId": "6b98d535-54b8-40c4-f1f3-b536b21a60ec",
    "scrolled": true
   },
   "outputs": [],
   "source": [
    "msno.matrix(data.sample(1000).sort_values(['Driving_experience','Vehicle_driver_relation']));"
   ]
  },
  {
   "cell_type": "code",
   "execution_count": null,
   "metadata": {
    "colab": {
     "base_uri": "https://localhost:8080/",
     "height": 591
    },
    "id": "Utx0vKRw9M6k",
    "outputId": "7e21976f-7507-4e8a-c36f-ac6e2275c9b9",
    "scrolled": true
   },
   "outputs": [],
   "source": [
    "msno.matrix(data.sample(1000).sort_values(['Fitness_of_casuality','Work_of_casuality']));"
   ]
  },
  {
   "cell_type": "code",
   "execution_count": null,
   "metadata": {
    "id": "m6aMsyRbF3Nj"
   },
   "outputs": [],
   "source": [
    "new = train_missing.index.values.tolist()"
   ]
  },
  {
   "cell_type": "code",
   "execution_count": null,
   "metadata": {
    "colab": {
     "base_uri": "https://localhost:8080/"
    },
    "id": "-TTfZdnwGJTv",
    "outputId": "de94f968-521c-4601-83f4-1ccb5b50a210"
   },
   "outputs": [],
   "source": [
    "new"
   ]
  },
  {
   "cell_type": "code",
   "execution_count": null,
   "metadata": {
    "colab": {
     "base_uri": "https://localhost:8080/",
     "height": 591
    },
    "id": "gzSxGGUcFCn6",
    "outputId": "7cf0309a-8ca7-4549-f5d2-fcb860248f8f"
   },
   "outputs": [],
   "source": [
    "msno.matrix(data.sample(2000).sort_values(new));"
   ]
  },
  {
   "cell_type": "code",
   "execution_count": null,
   "metadata": {
    "id": "yC3-2tZxK9lF"
   },
   "outputs": [],
   "source": [
    "null_data = data[data.isnull().any(axis=1)]"
   ]
  },
  {
   "cell_type": "code",
   "execution_count": null,
   "metadata": {
    "colab": {
     "base_uri": "https://localhost:8080/",
     "height": 866
    },
    "id": "r1D1CcHiztwQ",
    "outputId": "9e95fc2a-fff7-4ce0-a8d8-360aa5d24b46"
   },
   "outputs": [],
   "source": [
    "null_data.groupby(['Accident_severity']).apply(lambda x: x[x['Driving_experience'].isna()])"
   ]
  },
  {
   "cell_type": "markdown",
   "metadata": {
    "id": "lbRjkXyjHNUJ"
   },
   "source": [
    "The plot shows that if a data point is missing in <b>Fitness_of_casuality</b>, we can guess that it is also missing from <b>Work_of_casuality</b> column or vice versa. Because of this connection, we can safely say the missing data in both columns are <b>not missing at random (MNAR)</b> so cant do deletion of missing observations because i can lead to bias.\n",
    "\n",
    "For the remaining, we can safely say they are <b>MCAR</b> because of the small number of missing values and low correlation."
   ]
  },
  {
   "cell_type": "code",
   "execution_count": null,
   "metadata": {
    "colab": {
     "base_uri": "https://localhost:8080/",
     "height": 589
    },
    "id": "oivv9FFD9P7E",
    "outputId": "5f2af635-07d5-47cb-e6b7-71dab047512d",
    "scrolled": false
   },
   "outputs": [],
   "source": [
    "msno.dendrogram(data)"
   ]
  },
  {
   "cell_type": "markdown",
   "metadata": {
    "id": "eKw6ydZJ0Dl3"
   },
   "source": [
    "# 2.0 EDA Categorical Variables\n",
    "\n",
    "In first step separate categorical variables in new dataframe."
   ]
  },
  {
   "cell_type": "code",
   "execution_count": null,
   "metadata": {
    "colab": {
     "base_uri": "https://localhost:8080/",
     "height": 391
    },
    "id": "YIRl_8I0zxcf",
    "outputId": "0be2e310-de91-4e35-aeff-30d425d63cdc"
   },
   "outputs": [],
   "source": [
    "# find categorical variables\n",
    "cat_cols = [c for c in data.columns if data[c].dtypes=='O']\n",
    "df_cat_cols = data[cat_cols]\n",
    "data[cat_cols].head()"
   ]
  },
  {
   "cell_type": "code",
   "execution_count": null,
   "metadata": {
    "colab": {
     "base_uri": "https://localhost:8080/"
    },
    "id": "tOPNF8bO0JB_",
    "outputId": "80579e3d-dbec-4a0d-cda4-bb270acce64a"
   },
   "outputs": [],
   "source": [
    "n_cat_cols = len(cat_cols)\n",
    "print(\"Number of Categorical Variables: \" + str(n_cat_cols))"
   ]
  },
  {
   "cell_type": "markdown",
   "metadata": {
    "id": "xu6OJ2UXGsVH"
   },
   "source": [
    "##  2.1 Display Each Categorical Variable Values\n",
    "\n",
    "There are 29 Categorical Variables.\n",
    "\n",
    "Now, lets check categories in each variable.\n"
   ]
  },
  {
   "cell_type": "code",
   "execution_count": null,
   "metadata": {
    "id": "4I852MGrAL7S"
   },
   "outputs": [],
   "source": [
    "null_data = data[data.isnull().any(axis=1)]"
   ]
  },
  {
   "cell_type": "code",
   "execution_count": null,
   "metadata": {
    "colab": {
     "base_uri": "https://localhost:8080/"
    },
    "id": "N36h9-l_0KQw",
    "outputId": "41851244-1f8b-4b2a-efe7-9b630f6df13a"
   },
   "outputs": [],
   "source": [
    "for col in cat_cols:\n",
    "    print(\"--------------------------\")\n",
    "    print(\"Column Name: \" + col)\n",
    "    print(\"--------------------------\")\n",
    "    print(\" \")\n",
    "    print(df_cat_cols[col].unique())\n",
    "    print(\" \")\n",
    "##  2.1 Display Each Vategorical Variable Value    print(\" \")"
   ]
  },
  {
   "cell_type": "markdown",
   "metadata": {
    "id": "0_zUcgFuIy_E"
   },
   "source": [
    "##  2.2 Display Count Of Each Category\n",
    "\n",
    "Let's check count of each variable."
   ]
  },
  {
   "cell_type": "code",
   "execution_count": null,
   "metadata": {
    "colab": {
     "base_uri": "https://localhost:8080/"
    },
    "id": "nUsUD_rs0Y8W",
    "outputId": "bda8e619-ad9c-419f-fb05-649f48369d80"
   },
   "outputs": [],
   "source": [
    "for col in cat_cols:\n",
    "    print(\"--------------------------\")\n",
    "    print(\"Column Name: \" + col)\n",
    "    print(\"--------------------------\")\n",
    "    print(\" \")\n",
    "    print(df_cat_cols[col].value_counts())\n",
    "    print(\" \")\n",
    "    print(\" \")"
   ]
  },
  {
   "cell_type": "markdown",
   "metadata": {
    "id": "cncKipEl_OeV"
   },
   "source": [
    "I have included <b>ENTOPY</b> as we know in information theory, entropy is a measure of the amount of uncertainty or randomness in a system. When applied to categorical variables, entropy can be used to measure the amount of uncertainty or randomness in the distribution of the variable.\n",
    "\n",
    "Moreover also included variation ratio which is a measure of the diversity or variability in a categorical dataset. It is calculated as the ratio of the number of distinct categories in the dataset to the total number of observations. Less the variation ration more probability of being <b>Quasi-constant</b> variable (Quasi Constant Features are those that show the same value for a great majority of observations in the dataset.)"
   ]
  },
  {
   "cell_type": "code",
   "execution_count": null,
   "metadata": {
    "id": "Mj8VNTHWHNo6"
   },
   "outputs": [],
   "source": [
    "#defining function to calculate Variation Ratio\n",
    "def variationRation(df, col):\n",
    "    myFreqs = df[col].value_counts()\n",
    "    fMode = myFreqs.max()\n",
    "    n = myFreqs.sum()\n",
    "    pMode = fMode / n\n",
    "    VR =1 -pMode\n",
    "    return VR"
   ]
  },
  {
   "cell_type": "code",
   "execution_count": null,
   "metadata": {},
   "outputs": [],
   "source": [
    "for col in cat_cols:\n",
    "    df_counts = df_cat_cols[col].value_counts()\n",
    "    prob = (df_cat_cols[col].value_counts() / len(df_cat_cols[col])).tolist()\n",
    "    Variation = variationRation(df_cat_cols, col)\n",
    "    ENTR = entropy(prob, base=2)\n",
    "\n",
    "    colors = px.colors.sequential.Plasma[:len(df_counts)]\n",
    "\n",
    "    fig = px.bar(df_counts, y=col, x=df_counts.index.values, text_auto=True,\n",
    "                 title='Entropy {:.2f}, Variation Ratio {:.2f}'.format(ENTR, Variation),\n",
    "                 color=df_counts.index.values, color_discrete_sequence=colors)\n",
    "\n",
    "    fig.show(\"notebook\")\n"
   ]
  },
  {
   "cell_type": "markdown",
   "metadata": {
    "id": "csCnZUfTHNUL"
   },
   "source": [
    "## 2.3 Display Ratio Of Each Category Along With Entropy And Variation Ratio\n",
    "\n",
    "Entropy: The randomness of the system is measured by entropy. Higher the disorder higher the entropy\n",
    "\n",
    "Variation Ratio: Fraction of cases different from the mode (most frequent value).\n",
    "\n",
    "Any category with high ration and low variable ration could be Quasi-constant."
   ]
  },
  {
   "cell_type": "code",
   "execution_count": null,
   "metadata": {
    "id": "VyE83UkXHNUL"
   },
   "outputs": [],
   "source": [
    "#defining function to calculate Variation Ratio\n",
    "def variationRation(df, col):\n",
    "    myFreqs = df[col].value_counts()\n",
    "    fMode = myFreqs.max()\n",
    "    n = myFreqs.sum()\n",
    "    pMode = fMode / n\n",
    "    VR =1 -pMode\n",
    "    return VR"
   ]
  },
  {
   "cell_type": "code",
   "execution_count": null,
   "metadata": {
    "colab": {
     "base_uri": "https://localhost:8080/"
    },
    "id": "-n9EDBuuHNUL",
    "outputId": "838ff790-64a8-4eda-9ba3-49099868667b"
   },
   "outputs": [],
   "source": [
    "variationRation(df_cat_cols, \"Vehicle_driver_relation\")"
   ]
  },
  {
   "cell_type": "code",
   "execution_count": null,
   "metadata": {
    "colab": {
     "base_uri": "https://localhost:8080/"
    },
    "id": "Th_My0GHHNUM",
    "outputId": "b9f78ec7-631e-4e78-8f10-2936c1e6113e",
    "scrolled": false
   },
   "outputs": [],
   "source": [
    "for col in cat_cols:\n",
    "    print(\"--------------------------\")\n",
    "    print(\"Column Name: \" + col)\n",
    "    print(\"--------------------------\")\n",
    "    print(\" \")\n",
    "    prob = (df_cat_cols[col].value_counts()/ len(df_cat_cols[col])).tolist()\n",
    "    Variation = variationRation(df_cat_cols, col)\n",
    "    ENTR = entropy(prob, base=2)\n",
    "    print(\"Entropy: {}\"  .format(ENTR))\n",
    "    print(\"Variation Ratio: {}\"  .format(Variation))\n",
    "    print(\" \")\n",
    "    print(df_cat_cols[col].value_counts()/ len(df_cat_cols[col]))\n",
    "    print(\" \")\n",
    "    print(\" \")"
   ]
  },
  {
   "cell_type": "code",
   "execution_count": null,
   "metadata": {},
   "outputs": [],
   "source": [
    "# Assuming `cat_cols` is a list of your categorical column names\n",
    "for col in cat_cols:\n",
    "    df = df_cat_cols[col].value_counts()/ len(df_cat_cols[col])\n",
    "    prob = (df_cat_cols[col].value_counts()/ len(df_cat_cols[col])).tolist()\n",
    "    Variation = variationRation(df_cat_cols, col)\n",
    "    ENTR = entropy(prob, base=2)\n",
    "    \n",
    "    fig = px.bar(df, y=col, x=df.index.values, text_auto=True,\n",
    "                 title='Entropy {:.2f}, Variation Ratio {:.2f}'.format(ENTR, Variation),\n",
    "                 color=df.index.values, color_discrete_sequence=colors)\n",
    "    fig.show(\"notebook\")"
   ]
  },
  {
   "cell_type": "markdown",
   "metadata": {
    "id": "eQrlFIdwHNUM"
   },
   "source": [
    "Contingency Table"
   ]
  },
  {
   "cell_type": "code",
   "execution_count": null,
   "metadata": {
    "colab": {
     "base_uri": "https://localhost:8080/"
    },
    "id": "8X_MR4yNxQTZ",
    "outputId": "d3a85bf3-e2a2-450a-ca07-eb568cdbba29"
   },
   "outputs": [],
   "source": [
    "for col in cat_cols:\n",
    "    ct_table_ind=pd.crosstab(df_cat_cols[\"Accident_severity\"],df_cat_cols[col])\n",
    "    print('contingency_table :')\n",
    "    print(ct_table_ind)\n",
    "    print(\"\")\n",
    "    print(\"\")\n",
    "    print(\"\")"
   ]
  },
  {
   "cell_type": "code",
   "execution_count": null,
   "metadata": {},
   "outputs": [],
   "source": [
    "# Assuming you have already defined 'cat_cols' and 'df_cat_cols'\n",
    "\n",
    "significant_cols = []\n",
    "insignificant_cols = []\n",
    "\n",
    "for col in cat_cols:\n",
    "    obs = pd.crosstab(df_cat_cols[col], df_cat_cols['Accident_severity'])\n",
    "    chi2, pval, dof, expected = chi2_contingency(obs)\n",
    "    if pval < 0.05:\n",
    "        significant_cols.append(col)\n",
    "    else:\n",
    "        insignificant_cols.append(col)\n",
    "\n",
    "print(\"Columns associated with Accident_severity outcome variable (significant):\")\n",
    "print(\", \".join(significant_cols))\n",
    "print(\"\\nColumns not associated with Accident_severity outcome variable (insignificant):\")\n",
    "print(\", \".join(insignificant_cols))"
   ]
  },
  {
   "cell_type": "markdown",
   "metadata": {
    "id": "A6WUKxIlJgqM"
   },
   "source": [
    "<b>Inference:</b> As it can be observed that folowing categorical variables <b>Pedestrian_movement</b>, <b>Fitness_of_casuality</b>, <b>Road_allignment</b> are <b>Quasi-constant</b> features beacsue it contains proximate 90% of data of one category. In other words, these feature have the same values for a very large subset of the outputs. Such features are not very useful for making predictions so we going to remove them."
   ]
  },
  {
   "cell_type": "markdown",
   "metadata": {
    "id": "qpuZ3okGHNUM"
   },
   "source": [
    "# 2.4 Display Segment Categorical Features By The Target Classes"
   ]
  },
  {
   "cell_type": "code",
   "execution_count": null,
   "metadata": {
    "colab": {
     "base_uri": "https://localhost:8080/",
     "height": 1000
    },
    "id": "jEHKI4jX41NB",
    "outputId": "70d1a082-b0a1-4e72-ef65-93c728c54fb4"
   },
   "outputs": [],
   "source": [
    "#Segment Categorical features by the target classes\n",
    "for col in data.select_dtypes(include='object'):\n",
    "    if data[col].nunique() <=4:\n",
    "        display(pd.crosstab(data['Accident_severity'], data[col], normalize='index'))\n",
    "        print(\"\")\n",
    "        print(\"\")\n",
    "        print(\"\")\n",
    "        #display(pd.crosstab(data['target'], data[col]))"
   ]
  },
  {
   "cell_type": "code",
   "execution_count": null,
   "metadata": {},
   "outputs": [],
   "source": [
    "#Count plot of target across various categorical features\n",
    "for col in data.select_dtypes(include='object'):\n",
    "    if data[col].nunique() <= 4:\n",
    "        fig = px.histogram(data, x=col, color='Accident_severity', barmode='group')\n",
    "        fig.update_xaxes(tickangle=60)\n",
    "        fig.show()"
   ]
  },
  {
   "cell_type": "code",
   "execution_count": null,
   "metadata": {
    "colab": {
     "base_uri": "https://localhost:8080/",
     "height": 423
    },
    "id": "UZDKu_dlboYl",
    "outputId": "033c4ade-70d3-4931-a2bf-53f40dcb585c"
   },
   "outputs": [],
   "source": [
    "df_temp = data.loc[:, ('Time','Area_accident_occured','Number_of_casualties','Accident_severity')]\n",
    "df_temp"
   ]
  },
  {
   "cell_type": "code",
   "execution_count": null,
   "metadata": {
    "colab": {
     "base_uri": "https://localhost:8080/",
     "height": 1000
    },
    "id": "GLqXt4-GHNUN",
    "outputId": "ab0968d1-0e65-4658-b596-944e6fd54793"
   },
   "outputs": [],
   "source": [
    "columns_names = ['Day_of_week','Sex_of_driver', 'Educational_level', 'Vehicle_driver_relation', 'Driving_experience', 'Type_of_vehicle' ,'Owner_of_vehicle', 'Service_year_of_vehicle',\n",
    " 'Defect_of_vehicle', 'Area_accident_occured', 'Types_of_Junction', 'Road_surface_type', 'Road_surface_conditions', 'Light_conditions', 'Weather_conditions',\n",
    "  'Vehicle_movement','Casualty_class','Sex_of_casualty', 'Cause_of_accident', 'Accident_severity','Age_band_of_casualty','Age_band_of_driver']\n",
    "\n",
    "for feature in columns_names:\n",
    "    df_temp = data.loc[:, columns_names]\n",
    "    df_temp.dropna( axis=0, inplace=True )\n",
    "    fig = px.histogram(df_temp, x=\"Accident_severity\", color=feature, barmode=\"group\",  height=500).update_xaxes(categoryorder='total ascending')\n",
    "    fig.show(\"notebook\")"
   ]
  },
  {
   "cell_type": "code",
   "execution_count": null,
   "metadata": {
    "colab": {
     "base_uri": "https://localhost:8080/",
     "height": 1000
    },
    "id": "49JsaicCHNUO",
    "outputId": "c14df48a-b52b-4437-9b50-938a3c084174"
   },
   "outputs": [],
   "source": [
    "columns_names = ['Day_of_week','Sex_of_driver', 'Educational_level', 'Vehicle_driver_relation', 'Driving_experience', 'Type_of_vehicle' ,'Owner_of_vehicle', 'Service_year_of_vehicle',\n",
    " 'Defect_of_vehicle', 'Area_accident_occured', 'Types_of_Junction', 'Road_surface_type', 'Road_surface_conditions', 'Light_conditions', 'Weather_conditions',\n",
    "  'Vehicle_movement','Casualty_class','Sex_of_casualty', 'Cause_of_accident', 'Accident_severity']\n",
    "\n",
    "for feature in columns_names:\n",
    "    df_temp = data.loc[:, columns_names]\n",
    "    df_temp.dropna( axis=0, inplace=True )\n",
    "    fig = px.histogram(df_temp, x=feature, color=\"Accident_severity\",  height=500).update_xaxes(categoryorder='total ascending')\n",
    "    fig.show(\"notebook\")"
   ]
  },
  {
   "cell_type": "code",
   "execution_count": null,
   "metadata": {
    "colab": {
     "base_uri": "https://localhost:8080/",
     "height": 1000
    },
    "id": "4WYVlh4kHNUO",
    "outputId": "1e282690-ebdb-46a2-b60d-d77bb7609b2e"
   },
   "outputs": [],
   "source": [
    "for feature in columns_names:\n",
    "    data_2 = pd.crosstab(index=data['Accident_severity'], columns=data[feature], normalize='index')\n",
    "    fig = px.imshow(data_2.T,\n",
    "                labels=dict(x=\"Accident_severity\", y=\"Cause_of_accident\", color=\"COUNT\"),\n",
    "                y=data_2.columns.tolist(),\n",
    "                x=data_2.index, height=800\n",
    "               )\n",
    "    fig.update_xaxes(side=\"top\")\n",
    "    fig.show(\"notebook\")"
   ]
  },
  {
   "cell_type": "code",
   "execution_count": null,
   "metadata": {
    "colab": {
     "base_uri": "https://localhost:8080/",
     "height": 1000
    },
    "id": "3Ttgx-TIHNUO",
    "outputId": "3df7945d-5937-4530-c2c7-027c16cb7351",
    "scrolled": true
   },
   "outputs": [],
   "source": [
    "#df_temp['Time'] = pd.to_datetime(data['Time'])\n",
    "fig = px.scatter(data, x=\"Time\", y=\"Area_accident_occured\",  size=\"Number_of_casualties\", color=\"Accident_severity\", size_max=30)\n",
    "fig.update_layout( height=1000 )\n",
    "fig.show(\"notebook\")"
   ]
  },
  {
   "cell_type": "code",
   "execution_count": null,
   "metadata": {
    "colab": {
     "base_uri": "https://localhost:8080/"
    },
    "id": "mMPnlf38Ewmo",
    "outputId": "6caad3a4-6397-4c20-f27b-2a49b1e6a617"
   },
   "outputs": [],
   "source": [
    "['Day_of_week', 'Age_band_of_driver', 'Area_accident_occured', 'Types_of_Junction', 'Light_conditions', 'Weather_conditions', 'Age_band_of_casualty', 'Accident_severity']"
   ]
  },
  {
   "cell_type": "code",
   "execution_count": null,
   "metadata": {
    "id": "NDt4oLzKHNUO"
   },
   "outputs": [],
   "source": [
    "data['hour'] = data['Time'].dt.hour"
   ]
  },
  {
   "cell_type": "code",
   "execution_count": null,
   "metadata": {
    "colab": {
     "base_uri": "https://localhost:8080/",
     "height": 517
    },
    "id": "iYyolomLHNUP",
    "outputId": "2a02df94-7270-4377-ff5a-325bd0839db1"
   },
   "outputs": [],
   "source": [
    "fig = px.histogram(data, x='hour', color=\"Accident_severity\",  height=500).update_xaxes(categoryorder='total ascending')\n",
    "fig.show(\"notebook\")"
   ]
  },
  {
   "cell_type": "code",
   "execution_count": null,
   "metadata": {
    "id": "02ek0rJyHNUP"
   },
   "outputs": [],
   "source": [
    "#making function to devide whole day into different sessions\n",
    "def f(x):\n",
    "    if (x > 4) and (x <= 8):\n",
    "        return 'Early Morning'\n",
    "    elif (x > 8) and (x <= 12 ):\n",
    "        return 'Morning'\n",
    "    elif (x > 12) and (x <= 16):\n",
    "        return'Noon'\n",
    "    elif (x > 16) and (x <= 20) :\n",
    "        return 'Eve'\n",
    "    elif (x > 20) and (x <= 24):\n",
    "        return'Night'\n",
    "    elif (x <= 4):\n",
    "        return'Late Night'"
   ]
  },
  {
   "cell_type": "code",
   "execution_count": null,
   "metadata": {
    "id": "D8tQzWaAHNUP"
   },
   "outputs": [],
   "source": [
    "data['session'] = data['hour'].apply(f)"
   ]
  },
  {
   "cell_type": "code",
   "execution_count": null,
   "metadata": {
    "colab": {
     "base_uri": "https://localhost:8080/"
    },
    "id": "dILjCwvlHNUP",
    "outputId": "6929bf9e-8704-405c-d6a4-829549a3a77d"
   },
   "outputs": [],
   "source": [
    "data['session']"
   ]
  },
  {
   "cell_type": "code",
   "execution_count": null,
   "metadata": {
    "colab": {
     "base_uri": "https://localhost:8080/",
     "height": 542
    },
    "id": "-Sla0YXyHNUP",
    "outputId": "f4da4008-1bf7-47ad-9268-22908f481f73"
   },
   "outputs": [],
   "source": [
    "# Calculate statistics\n",
    "df = data[\"session\"].value_counts() / len(data[\"session\"])\n",
    "prob = (data[\"session\"].value_counts() / len(data[\"session\"])).tolist()\n",
    "Variation = variationRation(data, \"session\")\n",
    "ENTR = entropy(prob, base=2)\n",
    "\n",
    "# Create a DataFrame for the bar chart\n",
    "df_bar = pd.DataFrame({\"session\": df.index.values, \"count\": df.values})\n",
    "\n",
    "# Add a color scale\n",
    "colors = px.colors.sequential.Plasma[:len(df_bar)]\n",
    "\n",
    "# Create the bar chart with color\n",
    "fig = px.bar(df_bar, y=\"session\", x=\"count\", text=\"count\",\n",
    "             title='Entropy {:.2f}, Variation Ratio {:.2f}'.format(ENTR, Variation),\n",
    "             color=\"count\", color_continuous_scale=colors)\n",
    "\n",
    "# Show the chart in a Jupyter Notebook\n",
    "fig.show(\"notebook\")"
   ]
  },
  {
   "cell_type": "code",
   "execution_count": null,
   "metadata": {
    "colab": {
     "base_uri": "https://localhost:8080/",
     "height": 175
    },
    "id": "jl91hOsxHNUQ",
    "outputId": "08fd8693-05d9-4d11-92b4-b3f055751ca8"
   },
   "outputs": [],
   "source": [
    "pd.crosstab(data['Accident_severity'], data[\"Vehicle_driver_relation\"], normalize='index')"
   ]
  },
  {
   "cell_type": "code",
   "execution_count": null,
   "metadata": {
    "id": "goSKUyG4HNUQ"
   },
   "outputs": [],
   "source": [
    "data_2 = pd.crosstab(index=data['Accident_severity'], columns=data['Cause_of_accident'])"
   ]
  },
  {
   "cell_type": "code",
   "execution_count": null,
   "metadata": {
    "colab": {
     "base_uri": "https://localhost:8080/",
     "height": 291
    },
    "id": "rBih9fWeHNUQ",
    "outputId": "c85fa77c-5a9b-4830-fd63-861c89822a9f"
   },
   "outputs": [],
   "source": [
    "data_2"
   ]
  },
  {
   "cell_type": "code",
   "execution_count": null,
   "metadata": {
    "colab": {
     "base_uri": "https://localhost:8080/"
    },
    "id": "Vx2Xu1H3HNUQ",
    "outputId": "d1c38987-0490-494f-fba9-35a396861876"
   },
   "outputs": [],
   "source": [
    "data_2.columns.tolist()"
   ]
  },
  {
   "cell_type": "code",
   "execution_count": null,
   "metadata": {
    "colab": {
     "base_uri": "https://localhost:8080/",
     "height": 817
    },
    "id": "WhAJ4o8oHNUQ",
    "outputId": "d9f225f3-e314-4a1a-8c9d-fca137729131"
   },
   "outputs": [],
   "source": [
    "import plotly.express as px\n",
    "fig = px.imshow(data_2.T,\n",
    "                labels=dict(x=\"Accident_severity\", y=\"Cause_of_accident\", color=\"COUNT\"),\n",
    "                y=data_2.columns.tolist(),\n",
    "                x=data_2.index, height=800\n",
    "               )\n",
    "fig.update_xaxes(side=\"top\")\n",
    "fig.show(\"notebook\")"
   ]
  },
  {
   "cell_type": "markdown",
   "metadata": {
    "id": "PO0MiriFHNUQ"
   },
   "source": [
    "<b>Inference for Categorical Data</b>\n",
    "\n",
    "Most of the drivers are <b>male (92%)</b> and in <b>18-50 yrs age groups (67%)</b> have education upto <b>Junior high school (61%)</b>  and are mostly <b>employees (78%) </b> have <b>2-10 yrs (28%)</b> of driving experience, moreover most of the accidents happened with <b>personally owned vehicle's passenger</b>.\n",
    "\n",
    "Most of the drivers have met accident at <b>Y Shape (36.8%)</b> junction.\n",
    "\n",
    "Most of accedent happend between <b>8 to 18 hours</b>.\n",
    "\n",
    "As it can be observed that folowing categorical variables <b>Pedestrian_movement</b>, <b>Fitness_of_casuality</b>, <b>Road_allignment</b> are <b>Quasi-constant</b> features beacsue it contains proximate 90% of data of one category. In other words, these feature have the same values for a very large subset of the outputs. Such features are not very useful for making predictions so we going to remove them."
   ]
  },
  {
   "cell_type": "markdown",
   "metadata": {
    "id": "B52M9r456ouw"
   },
   "source": [
    "# 3.0 EDA Numerical Variables"
   ]
  },
  {
   "cell_type": "code",
   "execution_count": null,
   "metadata": {
    "colab": {
     "base_uri": "https://localhost:8080/",
     "height": 206
    },
    "id": "pguUZUrz5Y3R",
    "outputId": "589c546d-2f8d-43a4-ff6d-f16c5a3c25b6"
   },
   "outputs": [],
   "source": [
    "# find numerical variables\n",
    "\n",
    "num_cols = [c for c in data.columns if data[c].dtypes!='O']\n",
    "df_num_cols = data[num_cols]\n",
    "df_num_cols.head()"
   ]
  },
  {
   "cell_type": "code",
   "execution_count": null,
   "metadata": {
    "colab": {
     "base_uri": "https://localhost:8080/"
    },
    "id": "jxH8y1VEHNUR",
    "outputId": "10850390-2d2d-4ae6-981d-1bdef52737d2"
   },
   "outputs": [],
   "source": [
    "#The information contains the number of columns, column labels, column data types\n",
    "df_num_cols.info()"
   ]
  },
  {
   "cell_type": "code",
   "execution_count": null,
   "metadata": {
    "colab": {
     "base_uri": "https://localhost:8080/",
     "height": 300
    },
    "id": "yNLdUEqaHNUR",
    "outputId": "9c86165c-8fbe-4e6f-f529-6b2b878722ab"
   },
   "outputs": [],
   "source": [
    "df_num_cols.describe()"
   ]
  },
  {
   "cell_type": "code",
   "execution_count": null,
   "metadata": {
    "colab": {
     "base_uri": "https://localhost:8080/"
    },
    "id": "SQHXcUYHHNUR",
    "outputId": "6a5aa894-02e6-49d0-c665-054b56c1dc80"
   },
   "outputs": [],
   "source": [
    "#checking unique values\n",
    "df_num_cols.Number_of_vehicles_involved.unique()"
   ]
  },
  {
   "cell_type": "code",
   "execution_count": null,
   "metadata": {
    "colab": {
     "base_uri": "https://localhost:8080/"
    },
    "id": "oBhPi_g-HNUR",
    "outputId": "61fd49e7-dce1-499a-e461-0afefb1d1a8f"
   },
   "outputs": [],
   "source": [
    "#checking values counts\n",
    "df_num_cols.Number_of_vehicles_involved.value_counts()"
   ]
  },
  {
   "cell_type": "code",
   "execution_count": null,
   "metadata": {
    "colab": {
     "base_uri": "https://localhost:8080/"
    },
    "id": "wITxm2QFHNUS",
    "outputId": "44ab94bd-f888-48cf-d67e-7d33f9f66797"
   },
   "outputs": [],
   "source": [
    "#checking unique values\n",
    "df_num_cols.Number_of_casualties.unique()"
   ]
  },
  {
   "cell_type": "code",
   "execution_count": null,
   "metadata": {
    "colab": {
     "base_uri": "https://localhost:8080/"
    },
    "id": "oFVsEwLWHNUS",
    "outputId": "6f4197d8-3014-4776-f5c7-35bc1180d177"
   },
   "outputs": [],
   "source": [
    "#checking values counts\n",
    "df_num_cols.Number_of_casualties.value_counts()"
   ]
  },
  {
   "cell_type": "code",
   "execution_count": null,
   "metadata": {
    "colab": {
     "base_uri": "https://localhost:8080/",
     "height": 423
    },
    "id": "jwQZLKQWHNUS",
    "outputId": "78ebff5b-ddb5-4d42-b11d-9302d93939b3"
   },
   "outputs": [],
   "source": [
    "#checking with target value\n",
    "data.loc[:, ('Time','Area_accident_occured','Number_of_casualties','Number_of_vehicles_involved','Accident_severity')]"
   ]
  },
  {
   "cell_type": "code",
   "execution_count": null,
   "metadata": {
    "colab": {
     "base_uri": "https://localhost:8080/",
     "height": 206
    },
    "id": "KmkEbnZ36vOe",
    "outputId": "8027866c-3c09-46d6-94be-5f6ecdc20725"
   },
   "outputs": [],
   "source": [
    "df_num_cols = df_num_cols.drop(['Time'], axis=1)\n",
    "df_num_cols.head()"
   ]
  },
  {
   "cell_type": "code",
   "execution_count": null,
   "metadata": {
    "colab": {
     "base_uri": "https://localhost:8080/"
    },
    "id": "Mk5-mTu07iHv",
    "outputId": "dc7df93b-81f7-4115-c55d-c1575eb8c98a"
   },
   "outputs": [],
   "source": [
    "n_num_cols = len(num_cols)\n",
    "print(\"Number of Numerical Variables: \" + str(n_num_cols))"
   ]
  },
  {
   "cell_type": "code",
   "execution_count": null,
   "metadata": {
    "colab": {
     "base_uri": "https://localhost:8080/",
     "height": 855
    },
    "id": "Iv2B4RXa7Bpe",
    "outputId": "618fa8a2-821f-4d11-941c-c75a36f59b43"
   },
   "outputs": [],
   "source": [
    "for col in data.select_dtypes(include='object'):\n",
    "    if data[col].nunique() <= 3:\n",
    "        display(data.groupby(col)[['Number_of_vehicles_involved', 'Number_of_casualties']].mean())\n",
    "        print(\"\")\n",
    "        print(\"\")\n",
    "        print(\"\")"
   ]
  },
  {
   "cell_type": "code",
   "execution_count": null,
   "metadata": {
    "colab": {
     "base_uri": "https://localhost:8080/",
     "height": 233
    },
    "id": "xpR02qwA7W0e",
    "outputId": "4ac998ca-6c4d-491e-c826-a9c5b9b6f62c"
   },
   "outputs": [],
   "source": [
    "corr = data.corr()\n",
    "corr"
   ]
  },
  {
   "cell_type": "code",
   "execution_count": null,
   "metadata": {
    "colab": {
     "base_uri": "https://localhost:8080/",
     "height": 719
    },
    "id": "QVPu6vNV7lIm",
    "outputId": "300c201f-0171-4c3d-cbd5-36471a890373"
   },
   "outputs": [],
   "source": [
    "plt.figure(figsize=(6,6))\n",
    "sns.heatmap(corr, cmap='RdBu_r', annot=True, vmax=1, vmin=-1)\n",
    "plt.show()"
   ]
  },
  {
   "cell_type": "markdown",
   "metadata": {
    "id": "S3ZsXdiqHNUT"
   },
   "source": [
    "<b>We can't find any observation or pattern in Numerical variable.</b>"
   ]
  }
 ],
 "metadata": {
  "colab": {
   "provenance": []
  },
  "kernelspec": {
   "display_name": "Python 3 (ipykernel)",
   "language": "python",
   "name": "python3"
  },
  "language_info": {
   "codemirror_mode": {
    "name": "ipython",
    "version": 3
   },
   "file_extension": ".py",
   "mimetype": "text/x-python",
   "name": "python",
   "nbconvert_exporter": "python",
   "pygments_lexer": "ipython3",
   "version": "3.9.12"
  }
 },
 "nbformat": 4,
 "nbformat_minor": 1
}
